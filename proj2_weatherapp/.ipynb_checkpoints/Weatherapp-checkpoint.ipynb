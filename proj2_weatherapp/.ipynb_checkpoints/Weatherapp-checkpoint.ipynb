{
 "cells": [
  {
   "cell_type": "code",
   "execution_count": 5,
   "metadata": {},
   "outputs": [
    {
     "name": "stdout",
     "output_type": "stream",
     "text": [
      "enter the name of the city\n",
      "karachi\n",
      "31.0\n"
     ]
    }
   ],
   "source": [
    "# import requests\n",
    "# import json\n",
    "# import os\n",
    "# city=input(\"enter the name of the city\\n\")\n",
    "# url=f\"https://api.weatherapi.com/v1/current.json?key=ddb4cd510abc4ce98f3111012232904&q={city}\"\n",
    "# r=requests.get(url)\n",
    "# # print(r.text)\n",
    "# weath_dic=json.loads(r.text)\n",
    "# print(weath_dic[\"current\"][\"temp_c\"])\n"
   ]
  },
  {
   "cell_type": "code",
   "execution_count": 6,
   "metadata": {},
   "outputs": [
    {
     "name": "stdout",
     "output_type": "stream",
     "text": [
      "Requirement already satisfied: pywin32 in c:\\users\\dell\\anaconda3\\lib\\site-packages (227)\n",
      "Note: you may need to restart the kernel to use updated packages.\n"
     ]
    }
   ],
   "source": [
    "pip install pywin32"
   ]
  },
  {
   "cell_type": "code",
   "execution_count": 7,
   "metadata": {},
   "outputs": [],
   "source": [
    "import win32com.client as wincom\n",
    "speak = wincom.Dispatch(\"SAPI.SpVoice\")\n",
    "speak.Speak(\"\")\n"
   ]
  },
  {
   "cell_type": "code",
   "execution_count": 13,
   "metadata": {},
   "outputs": [
    {
     "name": "stdout",
     "output_type": "stream",
     "text": [
      "enter the name of the city\n",
      "karachi\n"
     ]
    },
    {
     "data": {
      "text/plain": [
       "1"
      ]
     },
     "execution_count": 13,
     "metadata": {},
     "output_type": "execute_result"
    }
   ],
   "source": [
    "import requests\n",
    "import json\n",
    "import os\n",
    "city=input(\"enter the name of the city\\n\")\n",
    "url=f\"https://api.weatherapi.com/v1/current.json?key=ddb4cd510abc4ce98f3111012232904&q={city}\"\n",
    "r=requests.get(url)\n",
    "# print(r.text)\n",
    "weath_dic=json.loads(r.text)\n",
    "w=weath_dic[\"current\"][\"temp_c\"]\n",
    "speak = wincom.Dispatch(\"SAPI.SpVoice\")\n",
    "speak.Speak(w)"
   ]
  },
  {
   "cell_type": "code",
   "execution_count": null,
   "metadata": {},
   "outputs": [],
   "source": []
  }
 ],
 "metadata": {
  "kernelspec": {
   "display_name": "Python 3",
   "language": "python",
   "name": "python3"
  },
  "language_info": {
   "codemirror_mode": {
    "name": "ipython",
    "version": 3
   },
   "file_extension": ".py",
   "mimetype": "text/x-python",
   "name": "python",
   "nbconvert_exporter": "python",
   "pygments_lexer": "ipython3",
   "version": "3.8.3"
  }
 },
 "nbformat": 4,
 "nbformat_minor": 4
}
