{
 "cells": [
  {
   "attachments": {
    "rbs.png": {
     "image/png": "[encoded data removed]"
    }
   },
   "cell_type": "markdown",
   "metadata": {},
   "source": [
    "![rbs.png](attachment:rbs.png)"
   ]
  },
  {
   "cell_type": "code",
   "execution_count": 6,
   "metadata": {},
   "outputs": [
    {
     "name": "stdout",
     "output_type": "stream",
     "text": [
      "this is robo speaker by hamza tech\n",
      "what you want me to speak : hello\n",
      "what you want me to speak : i am in pain\n",
      "what you want me to speak : i will modify this program shortly\n",
      "what you want me to speak : quit\n"
     ]
    }
   ],
   "source": [
    "import os\n",
    "if __name__ == '__main__':\n",
    "    print(\"this is robo speaker by hamza tech\")\n",
    "    while True:\n",
    "        x=input(\"what you want me to speak : \")\n",
    "        if x==\"quit\":\n",
    "            break\n",
    "        command=f\"say{x}\"\n",
    "        os.system(command)"
   ]
  },
  {
   "cell_type": "markdown",
   "metadata": {},
   "source": [
    "well this very basic so lets upgrade a bit to build a chatbot"
   ]
  },
  {
   "cell_type": "code",
   "execution_count": 7,
   "metadata": {},
   "outputs": [
    {
     "name": "stdout",
     "output_type": "stream",
     "text": [
      "Requirement already satisfied: nltk in c:\\users\\dell\\anaconda3\\lib\\site-packages (3.5)\n",
      "Requirement already satisfied: tqdm in c:\\users\\dell\\anaconda3\\lib\\site-packages (from nltk) (4.47.0)\n",
      "Requirement already satisfied: click in c:\\users\\dell\\anaconda3\\lib\\site-packages (from nltk) (7.1.2)\n",
      "Requirement already satisfied: joblib in c:\\users\\dell\\anaconda3\\lib\\site-packages (from nltk) (0.16.0)\n",
      "Requirement already satisfied: regex in c:\\users\\dell\\anaconda3\\lib\\site-packages (from nltk) (2020.6.8)\n"
     ]
    }
   ],
   "source": [
    "!pip install nltk "
   ]
  },
  {
   "cell_type": "code",
   "execution_count": 8,
   "metadata": {},
   "outputs": [
    {
     "ename": "ImportError",
     "evalue": "cannot import name 'chat' from 'nltk.chat.util' (C:\\Users\\Dell\\anaconda3\\lib\\site-packages\\nltk\\chat\\util.py)",
     "output_type": "error",
     "traceback": [
      "\u001b[1;31m---------------------------------------------------------------------------\u001b[0m",
      "\u001b[1;31mImportError\u001b[0m                               Traceback (most recent call last)",
      "\u001b[1;32m<ipython-input-8-37043647b629>\u001b[0m in \u001b[0;36m<module>\u001b[1;34m\u001b[0m\n\u001b[1;32m----> 1\u001b[1;33m \u001b[1;32mfrom\u001b[0m \u001b[0mnltk\u001b[0m\u001b[1;33m.\u001b[0m\u001b[0mchat\u001b[0m\u001b[1;33m.\u001b[0m\u001b[0mutil\u001b[0m \u001b[1;32mimport\u001b[0m \u001b[0mchat\u001b[0m\u001b[1;33m,\u001b[0m\u001b[0mreflections\u001b[0m\u001b[1;33m\u001b[0m\u001b[1;33m\u001b[0m\u001b[0m\n\u001b[0m\u001b[0;32m      2\u001b[0m \u001b[0mreflections\u001b[0m\u001b[1;33m\u001b[0m\u001b[1;33m\u001b[0m\u001b[0m\n",
      "\u001b[1;31mImportError\u001b[0m: cannot import name 'chat' from 'nltk.chat.util' (C:\\Users\\Dell\\anaconda3\\lib\\site-packages\\nltk\\chat\\util.py)"
     ]
    }
   ],
   "source": [
    "from nltk.chat.util import chat,reflections\n",
    "reflections"
   ]
  },
  {
   "cell_type": "code",
   "execution_count": 9,
   "metadata": {},
   "outputs": [
    {
     "data": {
      "text/plain": [
       "{'i am': 'you are',\n",
       " 'i was': 'you were',\n",
       " 'i': 'you',\n",
       " \"i'm\": 'you are',\n",
       " \"i'd\": 'you would',\n",
       " \"i've\": 'you have',\n",
       " \"i'll\": 'you will',\n",
       " 'my': 'your',\n",
       " 'you are': 'I am',\n",
       " 'you were': 'I was',\n",
       " \"you've\": 'I have',\n",
       " \"you'll\": 'I will',\n",
       " 'your': 'my',\n",
       " 'yours': 'mine',\n",
       " 'you': 'me',\n",
       " 'me': 'you'}"
      ]
     },
     "execution_count": 9,
     "metadata": {},
     "output_type": "execute_result"
    }
   ],
   "source": [
    "from nltk.chat.util import Chat,reflections\n",
    "reflections"
   ]
  },
  {
   "cell_type": "code",
   "execution_count": 6,
   "metadata": {},
   "outputs": [
    {
     "name": "stdout",
     "output_type": "stream",
     "text": [
      "> hello\n",
      "Hello! How can I assist you?\n",
      "> remind me at 8\n",
      "Okay, I'll remind you at 8. Is there anything else you need help with?\n",
      "> quit\n"
     ]
    }
   ],
   "source": [
    "\n",
    "import nltk\n",
    "from nltk.chat.util import Chat, reflections\n",
    "\n",
    "pairs = [\n",
    "    [\n",
    "        r\"my name is (.*)\",\n",
    "        [\"Hello %1, how can I help you today?\"]\n",
    "    ],\n",
    "    [\n",
    "        r\"hi|hello|hey\",\n",
    "        [\"Hello! How can I assist you?\"]\n",
    "    ],\n",
    "    [\n",
    "        r\"what can you do|what are your capabilities\",\n",
    "        [\"I can help you with various tasks, like setting reminders or answering questions. Just let me know what you need!\"]\n",
    "    ],\n",
    "    [\n",
    "        r\"set a reminder for (.*)\",\n",
    "        [\"Sure, I'll remind you to %1. When would you like to be reminded?\"]\n",
    "    ],\n",
    "    [\n",
    "        r\"remind me (in|at) (.*)\",\n",
    "        [\"Okay, I'll remind you %1 %2. Is there anything else you need help with?\"]\n",
    "    ],\n",
    "    [\n",
    "        r\"thank you|thanks|great|awesome\",\n",
    "        [\"You're welcome! Let me know if you need anything else.\"]\n",
    "    ],\n",
    "    [\n",
    "        r\"bye|goodbye\",\n",
    "        [\"Goodbye! Have a great day.\"]\n",
    "    ],\n",
    "    [\n",
    "        r\"(.*)\",\n",
    "        [\"I'm sorry, I didn't understand that. Can you please rephrase your request?\"]\n",
    "    ]\n",
    "]\n",
    "\n",
    "# Create chatbot\n",
    "chatbot = Chat(pairs, reflections)\n",
    "\n",
    "# Main loop\n",
    "while True:\n",
    "    # Get user input\n",
    "    user_input = input(\"> \")\n",
    "\n",
    "    # Check for terminating condition\n",
    "    if user_input.lower() == \"quit\":\n",
    "        break\n",
    "\n",
    "    # Get chatbot response\n",
    "    response = chatbot.respond(user_input)\n",
    "\n",
    "    # Print chatbot response\n",
    "    print(response)\n",
    "\n"
   ]
  },
  {
   "cell_type": "code",
   "execution_count": null,
   "metadata": {},
   "outputs": [],
   "source": [
    "# using commands from json file"
   ]
  },
  {
   "cell_type": "code",
   "execution_count": 2,
   "metadata": {},
   "outputs": [
    {
     "name": "stdout",
     "output_type": "stream",
     "text": [
      "> quit\n",
      "I'm sorry, I don't understand. Can you please try again?\n",
      "> exit\n"
     ]
    }
   ],
   "source": [
    "import json\n",
    "\n",
    "# Load chatbot rules from JSON file\n",
    "with open('chatbot_rules.json') as f:\n",
    "    chatbot_rules = json.load(f)\n",
    "\n",
    "# Define function to handle user input\n",
    "def handle_input(input_text):\n",
    "    # Check for greetings\n",
    "    for key in chatbot_rules['greetings']:\n",
    "        if key in input_text.lower():\n",
    "            return chatbot_rules['greetings'][key]\n",
    "\n",
    "    # Check for farewells\n",
    "    for key in chatbot_rules['farewells']:\n",
    "        if key in input_text.lower():\n",
    "            return chatbot_rules['farewells'][key]\n",
    "\n",
    "    # If no matches, return default response\n",
    "    return \"I'm sorry, I don't understand. Can you please try again?\"\n",
    "\n",
    "# Main loop\n",
    "while True:\n",
    "    # Get user input\n",
    "    user_input = input(\"> \")\n",
    "    if user_input.lower() == 'exit':\n",
    "        break\n",
    "\n",
    "    # Handle input and print response\n",
    "    response = handle_input(user_input)\n",
    "    print(response)"
   ]
  },
  {
   "cell_type": "code",
   "execution_count": null,
   "metadata": {},
   "outputs": [],
   "source": []
  }
 ],
 "metadata": {
  "kernelspec": {
   "display_name": "Python 3",
   "language": "python",
   "name": "python3"
  },
  "language_info": {
   "codemirror_mode": {
    "name": "ipython",
    "version": 3
   },
   "file_extension": ".py",
   "mimetype": "text/x-python",
   "name": "python",
   "nbconvert_exporter": "python",
   "pygments_lexer": "ipython3",
   "version": "3.8.3"
  }
 },
 "nbformat": 4,
 "nbformat_minor": 4
}
