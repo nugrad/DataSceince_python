{
 "cells": [
  {
   "cell_type": "markdown",
   "metadata": {},
   "source": [
    "key function when working with files is open()"
   ]
  },
  {
   "cell_type": "markdown",
   "metadata": {},
   "source": [
    "these are  diffrent methods when opening a file;"
   ]
  },
  {
   "cell_type": "markdown",
   "metadata": {},
   "source": [
    "\"r\" - > Read - Default value. Opens a file for reading, error if the file does not exist"
   ]
  },
  {
   "cell_type": "markdown",
   "metadata": {},
   "source": [
    "\"w\" - > Write - Opens a file for writing, creates the file if it does not exist"
   ]
  },
  {
   "cell_type": "markdown",
   "metadata": {},
   "source": [
    "\"a\" - > Append - Opens a file for appending, creates the file if it does not exist"
   ]
  },
  {
   "cell_type": "markdown",
   "metadata": {},
   "source": [
    "\"x\" - > Create - Creates the specified file, returns an error if the file exists"
   ]
  },
  {
   "cell_type": "markdown",
   "metadata": {},
   "source": [
    "\"t\" - > Open in text mode. (default)"
   ]
  },
  {
   "cell_type": "markdown",
   "metadata": {},
   "source": [
    "\"b\" - > Binary - Binary mode (e.g. images)"
   ]
  },
  {
   "cell_type": "code",
   "execution_count": 1,
   "metadata": {},
   "outputs": [],
   "source": [
    "# now we open our first file"
   ]
  },
  {
   "cell_type": "code",
   "execution_count": 7,
   "metadata": {},
   "outputs": [],
   "source": [
    "f=open(\"test1.txt\")"
   ]
  },
  {
   "cell_type": "code",
   "execution_count": 9,
   "metadata": {},
   "outputs": [],
   "source": [
    "# as we know by default files are in read \"r\" and text \" t\" mode so we dont need to specify it\n",
    "# however if we want so we can\n",
    "f = open(\"test1.txt\", \"rt\")"
   ]
  },
  {
   "cell_type": "code",
   "execution_count": 11,
   "metadata": {},
   "outputs": [],
   "source": [
    "# Here's few simple examples of how to open a file in different modes,\n",
    "file1 = open(\"test1.txt\")      # equivalent to 'r' or 'rt'\n",
    "file1 = open(\"test1.txt\",'w')  # write in text mode\n",
    "# file1 = open(\"img.bmp\",'r+b') # read and write in binary mode"
   ]
  },
  {
   "cell_type": "markdown",
   "metadata": {},
   "source": [
    "### Reading files content"
   ]
  },
  {
   "cell_type": "markdown",
   "metadata": {},
   "source": [
    "using read() method"
   ]
  },
  {
   "cell_type": "code",
   "execution_count": 14,
   "metadata": {},
   "outputs": [
    {
     "name": "stdout",
     "output_type": "stream",
     "text": [
      "this my test file\n",
      "i will become data scientist one day\n",
      "i will learn flutter app development\n",
      "by gods grace IA\n"
     ]
    }
   ],
   "source": [
    "f=open(\"test1.txt\",\"r\")\n",
    "print(f.read())"
   ]
  },
  {
   "cell_type": "markdown",
   "metadata": {},
   "source": [
    "we can also specify how many chracters we want ,for eg i want first 5 chracters of file"
   ]
  },
  {
   "cell_type": "code",
   "execution_count": 15,
   "metadata": {},
   "outputs": [
    {
     "name": "stdout",
     "output_type": "stream",
     "text": [
      "this \n"
     ]
    }
   ],
   "source": [
    "f=open(\"test1.txt\",\"r\")\n",
    "print(f.read(5))"
   ]
  },
  {
   "cell_type": "markdown",
   "metadata": {},
   "source": [
    "read a line using readline() func"
   ]
  },
  {
   "cell_type": "code",
   "execution_count": 16,
   "metadata": {},
   "outputs": [
    {
     "name": "stdout",
     "output_type": "stream",
     "text": [
      "this my test file\n",
      "\n"
     ]
    }
   ],
   "source": [
    "f=open(\"test1.txt\",\"r\")\n",
    "print(f.readline())"
   ]
  },
  {
   "cell_type": "code",
   "execution_count": 17,
   "metadata": {},
   "outputs": [
    {
     "name": "stdout",
     "output_type": "stream",
     "text": [
      "this my test file\n",
      "\n",
      "i will become data scientist one day\n",
      "\n"
     ]
    }
   ],
   "source": [
    "f=open(\"test1.txt\",\"r\")\n",
    "print(f.readline())\n",
    "print(f.readline())"
   ]
  },
  {
   "cell_type": "markdown",
   "metadata": {},
   "source": [
    "loop through file line by line"
   ]
  },
  {
   "cell_type": "code",
   "execution_count": 18,
   "metadata": {},
   "outputs": [
    {
     "name": "stdout",
     "output_type": "stream",
     "text": [
      "this my test file\n",
      "\n",
      "i will become data scientist one day\n",
      "\n",
      "i will learn flutter app development\n",
      "\n",
      "by gods grace IA\n"
     ]
    }
   ],
   "source": [
    "f=open(\"test1.txt\",\"r\")\n",
    "for i in f:\n",
    "    print(i)"
   ]
  },
  {
   "cell_type": "markdown",
   "metadata": {},
   "source": [
    "It is a good practice to always close the file when you are done with it."
   ]
  },
  {
   "cell_type": "code",
   "execution_count": 19,
   "metadata": {},
   "outputs": [
    {
     "name": "stdout",
     "output_type": "stream",
     "text": [
      "this my test file\n",
      "\n"
     ]
    }
   ],
   "source": [
    "f=open(\"test1.txt\",\"r\")\n",
    "print(f.readline())\n",
    "f.close()"
   ]
  },
  {
   "cell_type": "markdown",
   "metadata": {},
   "source": [
    "### writing in a file"
   ]
  },
  {
   "cell_type": "markdown",
   "metadata": {},
   "source": [
    "\"a\" - Append - will append to the end of the file"
   ]
  },
  {
   "cell_type": "markdown",
   "metadata": {},
   "source": [
    "\"w\" - Write - will overwrite any existing content,replacing old data with new data"
   ]
  },
  {
   "cell_type": "code",
   "execution_count": 26,
   "metadata": {},
   "outputs": [
    {
     "name": "stdout",
     "output_type": "stream",
     "text": [
      "this my test file\n",
      "i will become data scientist one day\n",
      "i will learn flutter app development\n",
      "by gods grace IA\n"
     ]
    }
   ],
   "source": [
    "f=open(\"test1.text\",\"a\")\n",
    "f.write(\"we have to learn good python skills to achieve our goals\")\n",
    "f.close()\n",
    "f=open(\"test1.txt\",\"r\")\n",
    "print(f.read())\n",
    "\n"
   ]
  },
  {
   "cell_type": "code",
   "execution_count": 27,
   "metadata": {},
   "outputs": [
    {
     "name": "stdout",
     "output_type": "stream",
     "text": [
      "Woops! I have deleted the content!\n"
     ]
    }
   ],
   "source": [
    "f = open(\"test1.txt\", \"w\")\n",
    "f.write(\"Woops! I have deleted the content!\")\n",
    "f.close()\n",
    "\n",
    "#open and read the file after the overwriting:\n",
    "f = open(\"test1.txt\", \"r\")\n",
    "print(f.read())"
   ]
  },
  {
   "cell_type": "markdown",
   "metadata": {},
   "source": [
    "Create a file called \"myfile.txt\":"
   ]
  },
  {
   "cell_type": "code",
   "execution_count": 28,
   "metadata": {},
   "outputs": [],
   "source": [
    "f = open(\"myfile.txt\", \"x\")"
   ]
  },
  {
   "cell_type": "code",
   "execution_count": null,
   "metadata": {},
   "outputs": [],
   "source": []
  }
 ],
 "metadata": {
  "kernelspec": {
   "display_name": "Python 3",
   "language": "python",
   "name": "python3"
  },
  "language_info": {
   "codemirror_mode": {
    "name": "ipython",
    "version": 3
   },
   "file_extension": ".py",
   "mimetype": "text/x-python",
   "name": "python",
   "nbconvert_exporter": "python",
   "pygments_lexer": "ipython3",
   "version": "3.8.3"
  }
 },
 "nbformat": 4,
 "nbformat_minor": 4
}
