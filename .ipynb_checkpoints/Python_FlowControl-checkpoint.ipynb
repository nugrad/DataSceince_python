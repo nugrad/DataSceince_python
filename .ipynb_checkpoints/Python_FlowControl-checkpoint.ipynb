{
 "cells": [
  {
   "cell_type": "markdown",
   "metadata": {},
   "source": [
    "## IF-ELSE statements"
   ]
  },
  {
   "cell_type": "markdown",
   "metadata": {},
   "source": [
    "basic program"
   ]
  },
  {
   "cell_type": "code",
   "execution_count": 1,
   "metadata": {},
   "outputs": [
    {
     "name": "stdout",
     "output_type": "stream",
     "text": [
      "enter a number5\n",
      "the number is positive\n"
     ]
    }
   ],
   "source": [
    "number=int(input(\"enter a number\"))\n",
    "if number>0:\n",
    "    print(\"the number is positive\")\n",
    "else:\n",
    "    print(\"number is negative\")"
   ]
  },
  {
   "cell_type": "code",
   "execution_count": 2,
   "metadata": {},
   "outputs": [
    {
     "name": "stdout",
     "output_type": "stream",
     "text": [
      "enter a number : 0\n",
      "number is zero\n"
     ]
    }
   ],
   "source": [
    "number=int(input(\"enter a number : \"))\n",
    "if number>0:\n",
    "    print(\"the number is positive\")\n",
    "elif number==0:\n",
    "    print(\"number is zero\")\n",
    "else:\n",
    "    print(\"number is negative\")"
   ]
  },
  {
   "cell_type": "code",
   "execution_count": 3,
   "metadata": {},
   "outputs": [
    {
     "name": "stdout",
     "output_type": "stream",
     "text": [
      "Both conditions are True\n"
     ]
    }
   ],
   "source": [
    "a = 200\n",
    "b = 33\n",
    "c = 500\n",
    "if a > b and c > a:\n",
    "  print(\"Both conditions are True\")"
   ]
  },
  {
   "cell_type": "code",
   "execution_count": 4,
   "metadata": {},
   "outputs": [
    {
     "name": "stdout",
     "output_type": "stream",
     "text": [
      "At least one of the conditions is True\n"
     ]
    }
   ],
   "source": [
    "a = 200\n",
    "b = 33\n",
    "c = 500\n",
    "if a > b or a > c:\n",
    "  print(\"At least one of the conditions is True\")"
   ]
  },
  {
   "cell_type": "code",
   "execution_count": 5,
   "metadata": {},
   "outputs": [
    {
     "name": "stdout",
     "output_type": "stream",
     "text": [
      "a is NOT greater than b\n"
     ]
    }
   ],
   "source": [
    "a = 33\n",
    "b = 200\n",
    "if not a > b:\n",
    "  print(\"a is NOT greater than b\")"
   ]
  },
  {
   "cell_type": "markdown",
   "metadata": {},
   "source": [
    "student grading using if-else"
   ]
  },
  {
   "cell_type": "code",
   "execution_count": 6,
   "metadata": {},
   "outputs": [
    {
     "name": "stdout",
     "output_type": "stream",
     "text": [
      "enter marks : 60\n",
      "AJeeb grade\n"
     ]
    }
   ],
   "source": [
    "marks=int(input(\"enter marks : \"))\n",
    "if marks >=80 and marks<90:\n",
    "    print(\"A grade\")\n",
    "elif marks>=70 and marks<80:\n",
    "    print(\"B grade\")\n",
    "elif marks==60 or marks==50:\n",
    "    print(\"AJeeb grade\")\n",
    "else:\n",
    "    print(\"ungraded\")"
   ]
  },
  {
   "cell_type": "markdown",
   "metadata": {},
   "source": [
    "##  *FOR* loop"
   ]
  },
  {
   "cell_type": "markdown",
   "metadata": {},
   "source": [
    "basic for loop"
   ]
  },
  {
   "cell_type": "code",
   "execution_count": 7,
   "metadata": {},
   "outputs": [
    {
     "name": "stdout",
     "output_type": "stream",
     "text": [
      "1 2 3 4 "
     ]
    }
   ],
   "source": [
    "l1=[1,2,3,4]\n",
    "for i in l1:\n",
    "    print(i,end=\" \")"
   ]
  },
  {
   "cell_type": "code",
   "execution_count": 8,
   "metadata": {},
   "outputs": [
    {
     "name": "stdout",
     "output_type": "stream",
     "text": [
      "0 1 2 3 4 5 "
     ]
    }
   ],
   "source": [
    "for i in range(6):# i=0 to i=5\n",
    "    print(i,end=\" \")"
   ]
  },
  {
   "cell_type": "code",
   "execution_count": 10,
   "metadata": {},
   "outputs": [
    {
     "name": "stdout",
     "output_type": "stream",
     "text": [
      "2 3 4 5 "
     ]
    }
   ],
   "source": [
    "for x in range(2, 6):# which means values from 2 to 6 (but not including 6)\n",
    "  print(x,end=\" \")"
   ]
  },
  {
   "cell_type": "markdown",
   "metadata": {},
   "source": [
    "break statement"
   ]
  },
  {
   "cell_type": "code",
   "execution_count": 11,
   "metadata": {},
   "outputs": [
    {
     "name": "stdout",
     "output_type": "stream",
     "text": [
      "0\n",
      "1\n",
      "2\n"
     ]
    }
   ],
   "source": [
    "for j in range(7):\n",
    "    if j==3:\n",
    "        break\n",
    "    print(j)\n",
    "else:\n",
    "    print(\"finished\")\n"
   ]
  },
  {
   "cell_type": "markdown",
   "metadata": {},
   "source": [
    "continue statement"
   ]
  },
  {
   "cell_type": "code",
   "execution_count": 12,
   "metadata": {},
   "outputs": [
    {
     "name": "stdout",
     "output_type": "stream",
     "text": [
      "apple\n",
      "cherry\n"
     ]
    }
   ],
   "source": [
    "fruits = [\"apple\", \"banana\", \"cherry\"]\n",
    "for x in fruits:\n",
    "  if x == \"banana\":\n",
    "    continue# not print banana\n",
    "  print(x)"
   ]
  },
  {
   "cell_type": "markdown",
   "metadata": {},
   "source": [
    "nested loop"
   ]
  },
  {
   "cell_type": "code",
   "execution_count": 16,
   "metadata": {},
   "outputs": [
    {
     "name": "stdout",
     "output_type": "stream",
     "text": [
      "0*0 =  0\n",
      "0*1 =  0\n",
      "0*2 =  0\n",
      "0*3 =  0\n",
      "0*4 =  0\n",
      "0*5 =  0\n",
      "1*0 =  0\n",
      "1*1 =  1\n",
      "1*2 =  2\n",
      "1*3 =  3\n",
      "1*4 =  4\n",
      "1*5 =  5\n",
      "2*0 =  0\n",
      "2*1 =  2\n",
      "2*2 =  4\n",
      "2*3 =  6\n",
      "2*4 =  8\n",
      "2*5 =  10\n",
      "3*0 =  0\n",
      "3*1 =  3\n",
      "3*2 =  6\n",
      "3*3 =  9\n",
      "3*4 =  12\n",
      "3*5 =  15\n",
      "4*0 =  0\n",
      "4*1 =  4\n",
      "4*2 =  8\n",
      "4*3 =  12\n",
      "4*4 =  16\n",
      "4*5 =  20\n",
      "5*0 =  0\n",
      "5*1 =  5\n",
      "5*2 =  10\n",
      "5*3 =  15\n",
      "5*4 =  20\n",
      "5*5 =  25\n"
     ]
    }
   ],
   "source": [
    "num=5\n",
    "num2=5\n",
    "for i in range(0,num+1):\n",
    "    for j in range (0,num+1):\n",
    "        print(\"{}*{} = \".format(i,j),i*j)\n"
   ]
  },
  {
   "cell_type": "code",
   "execution_count": 17,
   "metadata": {},
   "outputs": [
    {
     "name": "stdout",
     "output_type": "stream",
     "text": [
      "red apple\n",
      "red banana\n",
      "red cherry\n",
      "big apple\n",
      "big banana\n",
      "big cherry\n",
      "tasty apple\n",
      "tasty banana\n",
      "tasty cherry\n"
     ]
    }
   ],
   "source": [
    "adj = [\"red\", \"big\", \"tasty\"]\n",
    "fruits = [\"apple\", \"banana\", \"cherry\"]\n",
    "\n",
    "for x in adj:\n",
    "  for y in fruits:\n",
    "    print(x, y)"
   ]
  },
  {
   "cell_type": "markdown",
   "metadata": {},
   "source": [
    "## *WHILE* loops"
   ]
  },
  {
   "cell_type": "markdown",
   "metadata": {},
   "source": [
    "With the while loop we can execute a set of statements as long as a condition is true."
   ]
  },
  {
   "cell_type": "code",
   "execution_count": 18,
   "metadata": {},
   "outputs": [
    {
     "name": "stdout",
     "output_type": "stream",
     "text": [
      "1 2 3 4 5 "
     ]
    }
   ],
   "source": [
    "i=1\n",
    "while i<6:\n",
    "    print(i,end=\" \")\n",
    "    i+=1"
   ]
  },
  {
   "cell_type": "code",
   "execution_count": 20,
   "metadata": {},
   "outputs": [
    {
     "name": "stdout",
     "output_type": "stream",
     "text": [
      "1 2 3 "
     ]
    }
   ],
   "source": [
    "i = 1\n",
    "while i < 6:\n",
    "  print(i,end=\" \")\n",
    "  if i == 3:\n",
    "    break\n",
    "  i += 1"
   ]
  },
  {
   "cell_type": "code",
   "execution_count": 23,
   "metadata": {},
   "outputs": [
    {
     "name": "stdout",
     "output_type": "stream",
     "text": [
      "Enter a number: 4\n",
      "Enter a number: 0\n",
      "total = 4\n"
     ]
    }
   ],
   "source": [
    "total = 0\n",
    "\n",
    "number = int(input('Enter a number: '))\n",
    "\n",
    "# add numbers until number is zero\n",
    "while number != 0:\n",
    "    total += number    # total = total + number\n",
    "    \n",
    "    # take integer input again\n",
    "    number = int(input('Enter a number: '))\n",
    "    \n",
    "\n",
    "print('total =', total)"
   ]
  },
  {
   "cell_type": "code",
   "execution_count": null,
   "metadata": {},
   "outputs": [],
   "source": [
    "# age = 32\n",
    "# this  code is for fun,saari memory kha jayga tumharey laptop ya pc ki\n",
    "\n",
    "# # the test condition is always True\n",
    "# while age > 18:\n",
    "#     print('You can vote')"
   ]
  },
  {
   "cell_type": "code",
   "execution_count": 24,
   "metadata": {},
   "outputs": [
    {
     "name": "stdout",
     "output_type": "stream",
     "text": [
      "Inside loop\n",
      "Inside loop\n",
      "Inside loop\n",
      "Inside else\n"
     ]
    }
   ],
   "source": [
    "counter = 0\n",
    "\n",
    "while counter < 3:\n",
    "    print('Inside loop')\n",
    "    counter = counter + 1\n",
    "else:\n",
    "    print('Inside else')"
   ]
  },
  {
   "cell_type": "markdown",
   "metadata": {},
   "source": [
    "## SOME LOOPY LOOP PRACTICE PROGRAMS"
   ]
  },
  {
   "cell_type": "markdown",
   "metadata": {},
   "source": [
    "n natural numbers"
   ]
  },
  {
   "cell_type": "code",
   "execution_count": 27,
   "metadata": {},
   "outputs": [
    {
     "name": "stdout",
     "output_type": "stream",
     "text": [
      "enter range : 10\n",
      "0 1 2 3 4 5 6 7 8 9 10 "
     ]
    }
   ],
   "source": [
    "num=int(input(\"enter range : \"))\n",
    "for i in  range (0,num+1):\n",
    "    print(i,end=\" \")"
   ]
  },
  {
   "cell_type": "markdown",
   "metadata": {},
   "source": [
    "sum of n natural numbers"
   ]
  },
  {
   "cell_type": "code",
   "execution_count": 30,
   "metadata": {},
   "outputs": [
    {
     "name": "stdout",
     "output_type": "stream",
     "text": [
      "enter the range :  10\n",
      "sum =  55\n"
     ]
    }
   ],
   "source": [
    "num2=int(input(\"enter the range :  \"))\n",
    "sum=0\n",
    "for i in range(0,num2+1):\n",
    "    sum+=i\n",
    "print(\"sum = \",sum)\n",
    "    "
   ]
  },
  {
   "cell_type": "markdown",
   "metadata": {},
   "source": [
    "multiplication table"
   ]
  },
  {
   "cell_type": "code",
   "execution_count": 31,
   "metadata": {},
   "outputs": [
    {
     "name": "stdout",
     "output_type": "stream",
     "text": [
      "enter the number : 5\n",
      "enter the range : 10\n",
      "5*0 =  0\n",
      "5*1 =  5\n",
      "5*2 =  10\n",
      "5*3 =  15\n",
      "5*4 =  20\n",
      "5*5 =  25\n",
      "5*6 =  30\n",
      "5*7 =  35\n",
      "5*8 =  40\n",
      "5*9 =  45\n",
      "5*10 =  50\n"
     ]
    }
   ],
   "source": [
    "n=int(input(\"enter the number : \"))\n",
    "r=int(input(\"enter the range : \"))\n",
    "for i in range(0,r+1):\n",
    "    print(\"{}*{} = \".format(n,i),n*i)"
   ]
  },
  {
   "cell_type": "markdown",
   "metadata": {},
   "source": [
    "sum of even and odd numbers within a range"
   ]
  },
  {
   "cell_type": "code",
   "execution_count": 32,
   "metadata": {},
   "outputs": [
    {
     "name": "stdout",
     "output_type": "stream",
     "text": [
      "enter a range : 10\n",
      "sum of even :  30\n",
      "sum of odd :  25\n"
     ]
    }
   ],
   "source": [
    "r=int(input(\"enter a range : \"))\n",
    "sum1=0\n",
    "sum2=0\n",
    "for i in range(1,r+1):\n",
    "    if i%2==0:\n",
    "        sum1+=i\n",
    "    else:\n",
    "        sum2+=i\n",
    "print(\"sum of even : \",sum1)\n",
    "print(\"sum of odd : \",sum2)"
   ]
  },
  {
   "cell_type": "markdown",
   "metadata": {},
   "source": [
    "count of any digit in a number"
   ]
  },
  {
   "cell_type": "code",
   "execution_count": 33,
   "metadata": {},
   "outputs": [
    {
     "name": "stdout",
     "output_type": "stream",
     "text": [
      "Please Enter any Number: 78987\n",
      "number of digits : 5\n"
     ]
    }
   ],
   "source": [
    "Number = int(input(\"Please Enter any Number: \"))\n",
    "Count = 0\n",
    "while(Number > 0):\n",
    " Number = Number // 10\n",
    " Count = Count + 1\n",
    " \n",
    "print(\"number of digits :\",Count)"
   ]
  },
  {
   "cell_type": "markdown",
   "metadata": {},
   "source": [
    "fibonacci"
   ]
  },
  {
   "cell_type": "code",
   "execution_count": 34,
   "metadata": {},
   "outputs": [
    {
     "name": "stdout",
     "output_type": "stream",
     "text": [
      "1 2 3 5 8 13 21 34 55 "
     ]
    }
   ],
   "source": [
    "a=0\n",
    "b=1\n",
    "for i in range(1,10):\n",
    "    c=a+b\n",
    "    a=b\n",
    "    b=c\n",
    "    print(c,end=\" \")\n",
    "    "
   ]
  },
  {
   "cell_type": "markdown",
   "metadata": {},
   "source": [
    "factorial "
   ]
  },
  {
   "cell_type": "code",
   "execution_count": 35,
   "metadata": {},
   "outputs": [
    {
     "name": "stdout",
     "output_type": "stream",
     "text": [
      "720\n"
     ]
    }
   ],
   "source": [
    "fac=1\n",
    "num=6\n",
    "i=1\n",
    "while i<=num:\n",
    " fac=fac*i\n",
    " i=i+1\n",
    "print(fac)"
   ]
  },
  {
   "cell_type": "markdown",
   "metadata": {},
   "source": [
    "reverse of a number"
   ]
  },
  {
   "cell_type": "code",
   "execution_count": 36,
   "metadata": {},
   "outputs": [
    {
     "name": "stdout",
     "output_type": "stream",
     "text": [
      "enter a number : 1669\n",
      "reverse is : 9661 \n"
     ]
    }
   ],
   "source": [
    "num=int(input(\"enter a number : \"))\n",
    "res=0\n",
    "while num>0:\n",
    " rem=num%10\n",
    " res=(res*10)+rem\n",
    " num=num//10\n",
    "print(\"reverse is : {} \".format(res))"
   ]
  },
  {
   "cell_type": "markdown",
   "metadata": {},
   "source": [
    "i hope we now have concepts how to use loops in python,we will keep using them in our future tutorials as well because nothing gets going without iteration"
   ]
  },
  {
   "cell_type": "code",
   "execution_count": null,
   "metadata": {},
   "outputs": [],
   "source": []
  }
 ],
 "metadata": {
  "kernelspec": {
   "display_name": "Python 3",
   "language": "python",
   "name": "python3"
  },
  "language_info": {
   "codemirror_mode": {
    "name": "ipython",
    "version": 3
   },
   "file_extension": ".py",
   "mimetype": "text/x-python",
   "name": "python",
   "nbconvert_exporter": "python",
   "pygments_lexer": "ipython3",
   "version": "3.8.3"
  }
 },
 "nbformat": 4,
 "nbformat_minor": 4
}
