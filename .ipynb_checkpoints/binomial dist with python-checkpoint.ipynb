{
 "cells": [
  {
   "cell_type": "code",
   "execution_count": 1,
   "metadata": {},
   "outputs": [
    {
     "name": "stdout",
     "output_type": "stream",
     "text": [
      "r\tp(r)\n",
      "0\t0.004096000000000002\n",
      "1\t0.03686400000000005\n",
      "2\t0.13824000000000003\n",
      "3\t0.2764800000000001\n",
      "4\t0.31104\n",
      "5\t0.18662400000000007\n",
      "6\t0.04665599999999999\n"
     ]
    }
   ],
   "source": [
    "from scipy.stats import binom\n",
    "from matplotlib import pyplot as plt\n",
    "n=6\n",
    "p=0.6\n",
    "r_values=list(range(n+1))\n",
    "mean,var=binom.stats(n,p)\n",
    "dist=[binom.pmf(r,n,p) for r in r_values]\n",
    "print(\"r\\tp(r)\")\n",
    "for i in range(n+1):\n",
    "    print(str(r_values[i])+\"\\t\"+str(dist[i]))"
   ]
  },
  {
   "cell_type": "code",
   "execution_count": 2,
   "metadata": {},
   "outputs": [
    {
     "data": {
      "image/png": "[encoded data removed]",
      "text/plain": [
       "<Figure size 432x288 with 1 Axes>"
      ]
     },
     "metadata": {
      "needs_background": "light"
     },
     "output_type": "display_data"
    }
   ],
   "source": [
    "plt.bar(r_values,dist)\n",
    "plt.show()"
   ]
  },
  {
   "cell_type": "code",
   "execution_count": null,
   "metadata": {},
   "outputs": [],
   "source": []
  }
 ],
 "metadata": {
  "kernelspec": {
   "display_name": "Python 3",
   "language": "python",
   "name": "python3"
  },
  "language_info": {
   "codemirror_mode": {
    "name": "ipython",
    "version": 3
   },
   "file_extension": ".py",
   "mimetype": "text/x-python",
   "name": "python",
   "nbconvert_exporter": "python",
   "pygments_lexer": "ipython3",
   "version": "3.8.3"
  }
 },
 "nbformat": 4,
 "nbformat_minor": 4
}
