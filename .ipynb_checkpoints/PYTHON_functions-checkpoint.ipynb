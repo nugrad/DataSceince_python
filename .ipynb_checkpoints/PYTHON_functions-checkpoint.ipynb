{
 "cells": [
  {
   "cell_type": "markdown",
   "metadata": {},
   "source": [
    "#  *FUNCTIONS*"
   ]
  },
  {
   "cell_type": "markdown",
   "metadata": {},
   "source": [
    "basic function"
   ]
  },
  {
   "cell_type": "code",
   "execution_count": 1,
   "metadata": {},
   "outputs": [
    {
     "name": "stdout",
     "output_type": "stream",
     "text": [
      "hhaa i am hello function\n"
     ]
    }
   ],
   "source": [
    "def hello():# func declared\n",
    "    print(\"hhaa i am hello function\")\n",
    "hello()# function called"
   ]
  },
  {
   "cell_type": "markdown",
   "metadata": {},
   "source": [
    " arguments"
   ]
  },
  {
   "cell_type": "code",
   "execution_count": 4,
   "metadata": {},
   "outputs": [
    {
     "name": "stdout",
     "output_type": "stream",
     "text": [
      "emilyrefnes\n",
      "tobiasrefnes\n",
      "linusrefnes\n"
     ]
    }
   ],
   "source": [
    "def name(fname):\n",
    "    print(fname + \"refnes\")\n",
    "name(\"emily\")\n",
    "name(\"tobias\")\n",
    "name(\"linus\")"
   ]
  },
  {
   "cell_type": "code",
   "execution_count": 6,
   "metadata": {},
   "outputs": [
    {
     "name": "stdout",
     "output_type": "stream",
     "text": [
      "sum of 5+4  :  9\n"
     ]
    }
   ],
   "source": [
    "def add_numbers(num1,num2):\n",
    "    sum1=num1+num2\n",
    "    print(\"sum of {}+{}  : \".format(num1,num2),sum1)\n",
    "add_numbers(5,4)"
   ]
  },
  {
   "cell_type": "markdown",
   "metadata": {},
   "source": [
    "return statement"
   ]
  },
  {
   "cell_type": "code",
   "execution_count": 9,
   "metadata": {},
   "outputs": [
    {
     "name": "stdout",
     "output_type": "stream",
     "text": [
      "square of 5 is =  25\n"
     ]
    }
   ],
   "source": [
    "def num_sq(n):\n",
    "    res=n*n\n",
    "    return res\n",
    "sq=num_sq(5)\n",
    "print(\"square of 5 is = \",sq)"
   ]
  },
  {
   "cell_type": "code",
   "execution_count": 10,
   "metadata": {},
   "outputs": [
    {
     "name": "stdout",
     "output_type": "stream",
     "text": [
      "sum =  9\n"
     ]
    }
   ],
   "source": [
    "def add_numbers(num1,num2):\n",
    "    sum1=num1+num2\n",
    "    return sum1\n",
    "res=add_numbers(5,4)\n",
    "print(\"sum = \",res)"
   ]
  },
  {
   "cell_type": "markdown",
   "metadata": {},
   "source": [
    "library functions"
   ]
  },
  {
   "cell_type": "code",
   "execution_count": 11,
   "metadata": {},
   "outputs": [
    {
     "name": "stdout",
     "output_type": "stream",
     "text": [
      "Square Root of 4 is 2.0\n",
      "2 to the power 3 is 8\n"
     ]
    }
   ],
   "source": [
    "import math\n",
    "\n",
    "# sqrt computes the square root\n",
    "square_root = math.sqrt(4)\n",
    "\n",
    "print(\"Square Root of 4 is\",square_root)\n",
    "\n",
    "# pow() comptes the power\n",
    "power = pow(2, 3)\n",
    "\n",
    "print(\"2 to the power 3 is\",power)"
   ]
  },
  {
   "cell_type": "markdown",
   "metadata": {},
   "source": [
    "## learning more about arguments"
   ]
  },
  {
   "cell_type": "markdown",
   "metadata": {},
   "source": [
    "argument with default values"
   ]
  },
  {
   "cell_type": "code",
   "execution_count": 13,
   "metadata": {},
   "outputs": [
    {
     "name": "stdout",
     "output_type": "stream",
     "text": [
      "addition when arguments were provided :  6\n",
      "addition when value for a was provied  so default value used :  15\n",
      "no values provied so default values used :  11\n"
     ]
    }
   ],
   "source": [
    "# when the arguments are not passed so default values used as arguments\n",
    "def add(a=7,b=4):# here a and b are default values\n",
    "    res1=a+b\n",
    "    return res1\n",
    "pt1=add(3,3)\n",
    "print(\"addition when arguments were provided : \",pt1)\n",
    "pt2=add(b=8)\n",
    "print(\"addition when value for a was provied  so default value used : \",pt2)\n",
    "pt3=add()\n",
    "print(\"no values provied so default values used : \",pt3)"
   ]
  },
  {
   "cell_type": "markdown",
   "metadata": {},
   "source": [
    "keyword argument"
   ]
  },
  {
   "cell_type": "code",
   "execution_count": 14,
   "metadata": {},
   "outputs": [
    {
     "name": "stdout",
     "output_type": "stream",
     "text": [
      "First Name: Eric\n",
      "Last Name: Cartman\n"
     ]
    }
   ],
   "source": [
    "#arguments are assigned based on the name of arguments.\n",
    "def display_info(first_name, last_name):\n",
    "    print('First Name:', first_name)\n",
    "    print('Last Name:', last_name)\n",
    "\n",
    "display_info(last_name = 'Cartman', first_name = 'Eric')"
   ]
  },
  {
   "cell_type": "markdown",
   "metadata": {},
   "source": [
    "arbitrary arguments"
   ]
  },
  {
   "cell_type": "code",
   "execution_count": 15,
   "metadata": {},
   "outputs": [
    {
     "name": "stdout",
     "output_type": "stream",
     "text": [
      "sum is :  6\n",
      "sum is :  55\n"
     ]
    }
   ],
   "source": [
    "# when we are not sure how many arguments will be used in function so we use * before parameter name\n",
    "def find_sum(*numbers):\n",
    "    res=0\n",
    "    for i in numbers:\n",
    "        res+=i\n",
    "    print(\"sum is : \",res)\n",
    "find_sum(1,2,3)#3 arguments\n",
    "find_sum(1,2,3,4,5,6,7,8,9,10)"
   ]
  },
  {
   "cell_type": "markdown",
   "metadata": {},
   "source": [
    "passing a list"
   ]
  },
  {
   "cell_type": "code",
   "execution_count": 17,
   "metadata": {},
   "outputs": [
    {
     "name": "stdout",
     "output_type": "stream",
     "text": [
      "banana mango peach "
     ]
    }
   ],
   "source": [
    "def myfun(food):\n",
    "    for i in food:\n",
    "        print(i,end=\" \")\n",
    "fruits=[\"banana\",\"mango\",\"peach\"]\n",
    "myfun(fruits)"
   ]
  },
  {
   "cell_type": "code",
   "execution_count": 20,
   "metadata": {},
   "outputs": [
    {
     "name": "stdout",
     "output_type": "stream",
     "text": [
      "even\n",
      "hello hamza ,have a good day\n"
     ]
    }
   ],
   "source": [
    "def evodd(x):\n",
    "    if x%2==0:\n",
    "        print(\"even\")\n",
    "    else :\n",
    "        print(\"odd\")\n",
    "def greet(name,msg):\n",
    "    print(\"hello\",name + ' ,'+ msg)\n",
    " \n",
    "evodd(10)\n",
    "greet(\"hamza\",\"have a good day\")"
   ]
  },
  {
   "cell_type": "markdown",
   "metadata": {},
   "source": [
    "## function types"
   ]
  },
  {
   "cell_type": "markdown",
   "metadata": {},
   "source": [
    "no arg ,no return value"
   ]
  },
  {
   "cell_type": "code",
   "execution_count": 23,
   "metadata": {},
   "outputs": [
    {
     "name": "stdout",
     "output_type": "stream",
     "text": [
      "sum is :  14\n"
     ]
    }
   ],
   "source": [
    "def add():\n",
    "    n1,n2=6,8\n",
    "    sum1=n1+n2\n",
    "    print(\"sum is : \",sum1)\n",
    "add()\n"
   ]
  },
  {
   "cell_type": "markdown",
   "metadata": {},
   "source": [
    "arg ,but no return value"
   ]
  },
  {
   "cell_type": "code",
   "execution_count": 29,
   "metadata": {},
   "outputs": [
    {
     "name": "stdout",
     "output_type": "stream",
     "text": [
      "name :  hamza\n",
      "salary before tax :  5000\n",
      "tax :  100.0\n",
      "original salary :  4900.0\n",
      "salary of hamza is 4900.0\n",
      "name :  hamza\n",
      "marks :  99\n",
      "grade :  A\n",
      "sum is :  14\n"
     ]
    }
   ],
   "source": [
    "def add(n1,n2):\n",
    "    \n",
    "    sum1=n1+n2\n",
    "    print(\"sum is : \",sum1)\n",
    "def stu(n,m):\n",
    " print(\"name : \",n)\n",
    " print(\"marks : \",m)\n",
    " grade=\"A\"\n",
    " print(\"grade : \",grade)\n",
    "def employee(name,sal=10000):\n",
    " print(\"name : \",name)\n",
    " print(\"salary before tax : \",sal)\n",
    " tax=0.02*sal\n",
    " fsal=sal-tax\n",
    " print(\"tax : \",tax)\n",
    " print(\"original salary : \",fsal)\n",
    " print(\"salary of\",name +' '\"is\",fsal)\n",
    "employee(\"hamza\",5000)\n",
    "stu(\"hamza\",99)\n",
    "add(6,8)"
   ]
  },
  {
   "cell_type": "markdown",
   "metadata": {},
   "source": [
    "no arg,but return value"
   ]
  },
  {
   "cell_type": "code",
   "execution_count": 26,
   "metadata": {},
   "outputs": [
    {
     "name": "stdout",
     "output_type": "stream",
     "text": [
      "sum is :  14\n"
     ]
    }
   ],
   "source": [
    "def add():\n",
    "    n1,n2=6,8\n",
    "    sum1=n1+n2\n",
    "    return sum1\n",
    "print(\"sum is : \",add())"
   ]
  },
  {
   "cell_type": "markdown",
   "metadata": {},
   "source": [
    "with arg ,with return value"
   ]
  },
  {
   "cell_type": "code",
   "execution_count": 27,
   "metadata": {},
   "outputs": [
    {
     "name": "stdout",
     "output_type": "stream",
     "text": [
      "square is  4\n"
     ]
    }
   ],
   "source": [
    "def sq(x):\n",
    " res=x**2\n",
    " return res\n",
    "print(\"square is \",sq(2))"
   ]
  },
  {
   "cell_type": "markdown",
   "metadata": {},
   "source": [
    "## recursion"
   ]
  },
  {
   "cell_type": "code",
   "execution_count": 30,
   "metadata": {},
   "outputs": [
    {
     "name": "stdout",
     "output_type": "stream",
     "text": [
      "The factorial of 3 is 6\n"
     ]
    }
   ],
   "source": [
    "def factorial(x):\n",
    "    \"\"\"This is a recursive function\n",
    "    to find the factorial of an integer\"\"\"\n",
    "\n",
    "    if x == 1:\n",
    "        return 1\n",
    "    else:\n",
    "        return (x * factorial(x-1))\n",
    "\n",
    "\n",
    "num = 3\n",
    "print(\"The factorial of\", num, \"is\", factorial(num))"
   ]
  },
  {
   "cell_type": "code",
   "execution_count": 31,
   "metadata": {},
   "outputs": [
    {
     "name": "stdout",
     "output_type": "stream",
     "text": [
      "\n",
      "\n",
      "Recursion Example Results\n",
      "1\n",
      "3\n",
      "6\n",
      "10\n",
      "15\n",
      "21\n"
     ]
    },
    {
     "data": {
      "text/plain": [
       "21"
      ]
     },
     "execution_count": 31,
     "metadata": {},
     "output_type": "execute_result"
    }
   ],
   "source": [
    "def tri_recursion(k):\n",
    "  if(k > 0):\n",
    "    result = k + tri_recursion(k - 1)\n",
    "    print(result)\n",
    "  else:\n",
    "    result = 0\n",
    "  return result\n",
    "\n",
    "print(\"\\n\\nRecursion Example Results\")\n",
    "tri_recursion(6)"
   ]
  },
  {
   "cell_type": "markdown",
   "metadata": {},
   "source": [
    "# LAMBDA FUNCTION"
   ]
  },
  {
   "cell_type": "markdown",
   "metadata": {},
   "source": [
    "in python lambda is a special type of function without the function name,hence also called anonymous function"
   ]
  },
  {
   "cell_type": "markdown",
   "metadata": {},
   "source": [
    "syntax is as follows"
   ]
  },
  {
   "cell_type": "code",
   "execution_count": 1,
   "metadata": {},
   "outputs": [],
   "source": [
    "# lambda arguments : expression"
   ]
  },
  {
   "cell_type": "code",
   "execution_count": 5,
   "metadata": {},
   "outputs": [
    {
     "name": "stdout",
     "output_type": "stream",
     "text": [
      "hello lambda\n"
     ]
    }
   ],
   "source": [
    "greet=lambda:print(\"hello lambda\")#declare lambda func\n",
    "greet()# call the lambda func"
   ]
  },
  {
   "cell_type": "code",
   "execution_count": 6,
   "metadata": {},
   "outputs": [
    {
     "name": "stdout",
     "output_type": "stream",
     "text": [
      "hello  hamza\n"
     ]
    }
   ],
   "source": [
    "hello=lambda name:print(\"hello \",name)# here we passed name argument to lambda fucntion\n",
    "hello('hamza')"
   ]
  },
  {
   "cell_type": "code",
   "execution_count": 7,
   "metadata": {},
   "outputs": [
    {
     "name": "stdout",
     "output_type": "stream",
     "text": [
      "20\n"
     ]
    }
   ],
   "source": [
    "x=lambda a:a+10\n",
    "print(x(10))"
   ]
  },
  {
   "cell_type": "code",
   "execution_count": 8,
   "metadata": {},
   "outputs": [
    {
     "name": "stdout",
     "output_type": "stream",
     "text": [
      "30\n"
     ]
    }
   ],
   "source": [
    "sum=lambda x,y,z:x+y+z\n",
    "print(sum(5,10,15))"
   ]
  },
  {
   "cell_type": "markdown",
   "metadata": {},
   "source": [
    "The power of lambda is better shown when you use them as an anonymous function inside another function.\n",
    "\n",
    "Say you have a function definition that takes one argument, and that argument will be multiplied with an unknown number:"
   ]
  },
  {
   "cell_type": "code",
   "execution_count": 9,
   "metadata": {},
   "outputs": [
    {
     "name": "stdout",
     "output_type": "stream",
     "text": [
      "22\n"
     ]
    }
   ],
   "source": [
    "def myfunc(n):\n",
    "  return lambda a : a * n\n",
    "\n",
    "mydoubler = myfunc(2)\n",
    "\n",
    "print(mydoubler(11))"
   ]
  },
  {
   "cell_type": "code",
   "execution_count": null,
   "metadata": {},
   "outputs": [],
   "source": []
  }
 ],
 "metadata": {
  "kernelspec": {
   "display_name": "Python 3",
   "language": "python",
   "name": "python3"
  },
  "language_info": {
   "codemirror_mode": {
    "name": "ipython",
    "version": 3
   },
   "file_extension": ".py",
   "mimetype": "text/x-python",
   "name": "python",
   "nbconvert_exporter": "python",
   "pygments_lexer": "ipython3",
   "version": "3.8.3"
  }
 },
 "nbformat": 4,
 "nbformat_minor": 4
}
