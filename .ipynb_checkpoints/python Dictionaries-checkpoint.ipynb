{
 "cells": [
  {
   "cell_type": "markdown",
   "metadata": {},
   "source": [
    "used to store data values in key:value pairs"
   ]
  },
  {
   "cell_type": "markdown",
   "metadata": {},
   "source": [
    "ordered , changeable , do not allows duplicates"
   ]
  },
  {
   "cell_type": "code",
   "execution_count": 7,
   "metadata": {},
   "outputs": [
    {
     "name": "stdout",
     "output_type": "stream",
     "text": [
      "{'name': 'hamza', 'age': 23, 'height': 5.11}\n"
     ]
    }
   ],
   "source": [
    "d1={\n",
    "    \"name\":'hamza',\n",
    "    \"age\" : 23,\n",
    "    \"height\":5.11\n",
    "}\n",
    "print(d1)"
   ]
  },
  {
   "cell_type": "markdown",
   "metadata": {},
   "source": [
    "items can be refered by using key names"
   ]
  },
  {
   "cell_type": "code",
   "execution_count": 8,
   "metadata": {},
   "outputs": [
    {
     "name": "stdout",
     "output_type": "stream",
     "text": [
      "hamza\n"
     ]
    }
   ],
   "source": [
    "print(d1[\"name\"])"
   ]
  },
  {
   "cell_type": "code",
   "execution_count": 9,
   "metadata": {},
   "outputs": [
    {
     "name": "stdout",
     "output_type": "stream",
     "text": [
      "3\n"
     ]
    }
   ],
   "source": [
    "print(len(d1))"
   ]
  },
  {
   "cell_type": "markdown",
   "metadata": {},
   "source": [
    "values inside dictionary can be of any data type"
   ]
  },
  {
   "cell_type": "code",
   "execution_count": 12,
   "metadata": {},
   "outputs": [
    {
     "name": "stdout",
     "output_type": "stream",
     "text": [
      "{'department': 'AI', 'year': 2020, 'semester': 6, 'courses': ['ANN', 'PDC', 'RS', 'DB', 'CN']}\n"
     ]
    }
   ],
   "source": [
    "d2={\n",
    "    \"department\":\"AI\",\n",
    "    \"year\":2020,\n",
    "    \"semester\":6,\n",
    "    \"courses\":['ANN','PDC','RS','DB','CN']\n",
    "}\n",
    "print(d2)"
   ]
  },
  {
   "cell_type": "code",
   "execution_count": 14,
   "metadata": {},
   "outputs": [
    {
     "name": "stdout",
     "output_type": "stream",
     "text": [
      "['ANN', 'PDC', 'RS', 'DB', 'CN']\n"
     ]
    }
   ],
   "source": [
    "print(d2[\"courses\"])"
   ]
  },
  {
   "cell_type": "markdown",
   "metadata": {},
   "source": [
    "the dict constructor"
   ]
  },
  {
   "cell_type": "code",
   "execution_count": 15,
   "metadata": {},
   "outputs": [
    {
     "name": "stdout",
     "output_type": "stream",
     "text": [
      "{'skill1': 'DATA SCIENCE', 'skill2': 'DATA ANALYTICS', 'skill3': 'FLUTTER DEVELOPER'}\n"
     ]
    }
   ],
   "source": [
    "d3=dict(skill1=\"DATA SCIENCE\",skill2=\"DATA ANALYTICS\",skill3=\"FLUTTER DEVELOPER\")\n",
    "print(d3)"
   ]
  },
  {
   "cell_type": "markdown",
   "metadata": {},
   "source": [
    "### Access Dictionary itmes"
   ]
  },
  {
   "cell_type": "markdown",
   "metadata": {},
   "source": [
    "we can access dictionary items by refering to its key name inside square brackets"
   ]
  },
  {
   "cell_type": "code",
   "execution_count": 16,
   "metadata": {},
   "outputs": [
    {
     "name": "stdout",
     "output_type": "stream",
     "text": [
      "DATA SCIENCE\n"
     ]
    }
   ],
   "source": [
    "print(d3[\"skill1\"])"
   ]
  },
  {
   "cell_type": "code",
   "execution_count": 17,
   "metadata": {},
   "outputs": [
    {
     "name": "stdout",
     "output_type": "stream",
     "text": [
      "FLUTTER DEVELOPER\n"
     ]
    }
   ],
   "source": [
    "print(d3.get(\"skill3\"))# get function can also be used"
   ]
  },
  {
   "cell_type": "markdown",
   "metadata": {},
   "source": [
    "keys() will return all keys in dictionary"
   ]
  },
  {
   "cell_type": "code",
   "execution_count": 18,
   "metadata": {},
   "outputs": [
    {
     "name": "stdout",
     "output_type": "stream",
     "text": [
      "dict_keys(['department', 'year', 'semester', 'courses'])\n"
     ]
    }
   ],
   "source": [
    "print(d2.keys())"
   ]
  },
  {
   "cell_type": "markdown",
   "metadata": {},
   "source": [
    "values() will return all values"
   ]
  },
  {
   "cell_type": "code",
   "execution_count": 19,
   "metadata": {},
   "outputs": [
    {
     "name": "stdout",
     "output_type": "stream",
     "text": [
      "dict_values(['AI', 2020, 6, ['ANN', 'PDC', 'RS', 'DB', 'CN']])\n"
     ]
    }
   ],
   "source": [
    "print(d2.values())"
   ]
  },
  {
   "cell_type": "markdown",
   "metadata": {},
   "source": [
    "items() will return each item in dictionary"
   ]
  },
  {
   "cell_type": "code",
   "execution_count": 20,
   "metadata": {},
   "outputs": [
    {
     "name": "stdout",
     "output_type": "stream",
     "text": [
      "dict_items([('department', 'AI'), ('year', 2020), ('semester', 6), ('courses', ['ANN', 'PDC', 'RS', 'DB', 'CN'])])\n"
     ]
    }
   ],
   "source": [
    "print(d2.items())"
   ]
  },
  {
   "cell_type": "code",
   "execution_count": 21,
   "metadata": {},
   "outputs": [],
   "source": [
    "# now we look some changes and updates"
   ]
  },
  {
   "cell_type": "code",
   "execution_count": 22,
   "metadata": {},
   "outputs": [
    {
     "name": "stdout",
     "output_type": "stream",
     "text": [
      "dict_keys(['brand', 'model', 'year'])\n",
      "dict_keys(['brand', 'model', 'year', 'color'])\n"
     ]
    }
   ],
   "source": [
    "car = {\n",
    "\"brand\": \"Ford\",\n",
    "\"model\": \"Mustang\",\n",
    "\"year\": 1964\n",
    "}\n",
    "\n",
    "x = car.keys()\n",
    "\n",
    "print(x) #before the change\n",
    "\n",
    "car[\"color\"] = \"white\"\n",
    "\n",
    "print(x) #after the change"
   ]
  },
  {
   "cell_type": "code",
   "execution_count": 23,
   "metadata": {},
   "outputs": [
    {
     "name": "stdout",
     "output_type": "stream",
     "text": [
      "dict_values(['Ford', 'Mustang', 1964])\n",
      "dict_values(['Ford', 'Mustang', 2020])\n"
     ]
    }
   ],
   "source": [
    "car = {\n",
    "\"brand\": \"Ford\",\n",
    "\"model\": \"Mustang\",\n",
    "\"year\": 1964\n",
    "}\n",
    "\n",
    "x = car.values()\n",
    "\n",
    "print(x) #before the change\n",
    "\n",
    "car[\"year\"] = 2020\n",
    "\n",
    "print(x) #after the change"
   ]
  },
  {
   "cell_type": "code",
   "execution_count": 24,
   "metadata": {},
   "outputs": [
    {
     "name": "stdout",
     "output_type": "stream",
     "text": [
      "hamza\n",
      "1669\n",
      "bill\n",
      "1702\n",
      "azaan\n",
      "1099\n",
      "umer\n",
      "1677\n",
      "abdur rehman\n",
      "1695\n",
      "{'hamza': 1669, 'bill': 1702, 'azaan': 1099, 'umer': 1677, 'abdur rehman': 1695}\n"
     ]
    }
   ],
   "source": [
    "n=5\n",
    "d={}\n",
    "for i in range(n):\n",
    " keys=input()\n",
    " values=int(input())\n",
    " d[keys]=values\n",
    "print(d)\n"
   ]
  },
  {
   "cell_type": "code",
   "execution_count": 25,
   "metadata": {},
   "outputs": [],
   "source": [
    "# now looping to access our d1"
   ]
  },
  {
   "cell_type": "code",
   "execution_count": 28,
   "metadata": {},
   "outputs": [
    {
     "name": "stdout",
     "output_type": "stream",
     "text": [
      "name:hamza\n",
      "age:23\n",
      "height:5.11\n"
     ]
    }
   ],
   "source": [
    "for i,j in d1.items():# i is key,j is value\n",
    "    print(\"{}:{}\".format(i,j))"
   ]
  },
  {
   "cell_type": "markdown",
   "metadata": {},
   "source": [
    "### Change items"
   ]
  },
  {
   "cell_type": "code",
   "execution_count": 29,
   "metadata": {},
   "outputs": [
    {
     "name": "stdout",
     "output_type": "stream",
     "text": [
      "{'brand': 'hyundai', 'model': 'Sonata', 'year': 2022}\n"
     ]
    }
   ],
   "source": [
    "thisd={\n",
    "    \"brand\":\"hyundai\",\n",
    "    \"model\":\"Sonata\",\n",
    "    \"year\":2022\n",
    "}\n",
    "print(thisd)"
   ]
  },
  {
   "cell_type": "code",
   "execution_count": 32,
   "metadata": {},
   "outputs": [
    {
     "name": "stdout",
     "output_type": "stream",
     "text": [
      "{'brand': 'hyundai', 'model': 'Sonata', 'year': 2021}\n"
     ]
    }
   ],
   "source": [
    "thisd[\"year\"]=2021\n",
    "print(thisd)"
   ]
  },
  {
   "cell_type": "markdown",
   "metadata": {},
   "source": [
    "we can use update()"
   ]
  },
  {
   "cell_type": "code",
   "execution_count": 33,
   "metadata": {},
   "outputs": [
    {
     "name": "stdout",
     "output_type": "stream",
     "text": [
      "{'brand': 'hyundai', 'model': 'tucson', 'year': 2021}\n"
     ]
    }
   ],
   "source": [
    "thisd.update({\"model\":\"tucson\"})\n",
    "print(thisd)"
   ]
  },
  {
   "cell_type": "markdown",
   "metadata": {},
   "source": [
    "### Add items"
   ]
  },
  {
   "cell_type": "code",
   "execution_count": 34,
   "metadata": {},
   "outputs": [
    {
     "name": "stdout",
     "output_type": "stream",
     "text": [
      "{'brand': 'hyundai', 'model': 'tucson', 'year': 2021, 'color': 'white'}\n"
     ]
    }
   ],
   "source": [
    "thisd[\"color\"]=\"white\"\n",
    "print(thisd)"
   ]
  },
  {
   "cell_type": "code",
   "execution_count": 35,
   "metadata": {},
   "outputs": [
    {
     "name": "stdout",
     "output_type": "stream",
     "text": [
      "{'brand': 'hyundai', 'model': 'tucson', 'year': 2021, 'color': 'white', 'CC': 2100}\n"
     ]
    }
   ],
   "source": [
    "thisd.update({\"CC\":2100})\n",
    "print(thisd)"
   ]
  },
  {
   "cell_type": "markdown",
   "metadata": {},
   "source": [
    "### Removing items"
   ]
  },
  {
   "cell_type": "code",
   "execution_count": 36,
   "metadata": {},
   "outputs": [
    {
     "name": "stdout",
     "output_type": "stream",
     "text": [
      "{'brand': 'hyundai', 'model': 'tucson', 'year': 2021, 'color': 'white'}\n"
     ]
    }
   ],
   "source": [
    "thisd.pop(\"CC\")# using pop() func\n",
    "print(thisd)"
   ]
  },
  {
   "cell_type": "code",
   "execution_count": 37,
   "metadata": {},
   "outputs": [
    {
     "name": "stdout",
     "output_type": "stream",
     "text": [
      "{'brand': 'hyundai', 'model': 'tucson', 'year': 2021}\n"
     ]
    }
   ],
   "source": [
    "thisd.popitem()# popitem() removes last inserted item\n",
    "print(thisd)"
   ]
  },
  {
   "cell_type": "markdown",
   "metadata": {},
   "source": [
    "### looping through dictionary"
   ]
  },
  {
   "cell_type": "code",
   "execution_count": 38,
   "metadata": {},
   "outputs": [
    {
     "name": "stdout",
     "output_type": "stream",
     "text": [
      "brand:\n",
      "model:\n",
      "year:\n"
     ]
    }
   ],
   "source": [
    "for i in thisd.keys():\n",
    "    print(\"{}:\".format(i))"
   ]
  },
  {
   "cell_type": "code",
   "execution_count": 39,
   "metadata": {},
   "outputs": [
    {
     "name": "stdout",
     "output_type": "stream",
     "text": [
      ":hyundai\n",
      ":tucson\n",
      ":2021\n"
     ]
    }
   ],
   "source": [
    "for i in thisd.values():\n",
    "    print(\":{}\".format(i))"
   ]
  },
  {
   "cell_type": "code",
   "execution_count": 41,
   "metadata": {},
   "outputs": [
    {
     "name": "stdout",
     "output_type": "stream",
     "text": [
      "brand : hyundai\n",
      "model : tucson\n",
      "year : 2021\n"
     ]
    }
   ],
   "source": [
    "for i,j in thisd.items():\n",
    "    print(\"{} : {}\".format(i,j))"
   ]
  },
  {
   "cell_type": "markdown",
   "metadata": {},
   "source": [
    "### Copy a dictionary"
   ]
  },
  {
   "cell_type": "code",
   "execution_count": 42,
   "metadata": {},
   "outputs": [
    {
     "name": "stdout",
     "output_type": "stream",
     "text": [
      "{'brand': 'hyundai', 'model': 'tucson', 'year': 2021}\n"
     ]
    }
   ],
   "source": [
    "mydict=thisd.copy()# we can use .copy()\n",
    "print(mydict)"
   ]
  },
  {
   "cell_type": "markdown",
   "metadata": {},
   "source": [
    "another way"
   ]
  },
  {
   "cell_type": "code",
   "execution_count": 43,
   "metadata": {},
   "outputs": [
    {
     "name": "stdout",
     "output_type": "stream",
     "text": [
      "{'brand': 'hyundai', 'model': 'tucson', 'year': 2021}\n"
     ]
    }
   ],
   "source": [
    "mydict=dict(thisd)\n",
    "print(mydict)"
   ]
  },
  {
   "cell_type": "markdown",
   "metadata": {},
   "source": [
    "### Nested Dictionary"
   ]
  },
  {
   "cell_type": "code",
   "execution_count": 45,
   "metadata": {},
   "outputs": [
    {
     "name": "stdout",
     "output_type": "stream",
     "text": [
      "{'child1': {'name': 'hassp', 'year': 1997}, 'child2': {'name': 'hamza', 'year': 2000}, 'child3': {'name': 'hamna', 'year': 2006}}\n"
     ]
    }
   ],
   "source": [
    "myfamily = {\n",
    "  \"child1\" : {\n",
    "    \"name\" : \"hassan\",\n",
    "    \"year\" : 1997\n",
    "  },\n",
    "  \"child2\" : {\n",
    "    \"name\" : \"hamza\",\n",
    "    \"year\" : 2000\n",
    "  },\n",
    "  \"child3\" : {\n",
    "    \"name\" : \"hamna\",\n",
    "    \"year\" : 2006\n",
    "  }\n",
    "}\n",
    "print(myfamily)"
   ]
  },
  {
   "cell_type": "code",
   "execution_count": 46,
   "metadata": {},
   "outputs": [
    {
     "name": "stdout",
     "output_type": "stream",
     "text": [
      "hamza\n"
     ]
    }
   ],
   "source": [
    "print(myfamily[\"child2\"][\"name\"])"
   ]
  },
  {
   "cell_type": "markdown",
   "metadata": {},
   "source": [
    "OR WE CAN Create three dictionaries, then create one dictionary that will contain the other three dictionaries:"
   ]
  },
  {
   "cell_type": "code",
   "execution_count": 47,
   "metadata": {},
   "outputs": [
    {
     "name": "stdout",
     "output_type": "stream",
     "text": [
      "{'child1': {'name': 'hassan', 'year': 1997}, 'child2': ({'name': 'hamza', 'year': 2000},), 'child3': {'name': 'hamna', 'year': 2006}}\n"
     ]
    }
   ],
   "source": [
    "\n",
    "  child1 = {\n",
    "    \"name\" : \"hassan\",\n",
    "    \"year\" : 1997\n",
    "  }\n",
    "  child2 ={\n",
    "    \"name\" : \"hamza\",\n",
    "    \"year\" : 2000\n",
    "  },\n",
    "  child3 = {\n",
    "    \"name\" : \"hamna\",\n",
    "    \"year\" : 2006\n",
    "  }\n",
    "myfamily = {\n",
    "  \"child1\" : child1,\n",
    "  \"child2\" : child2,\n",
    "  \"child3\" : child3\n",
    "}\n",
    "print(myfamily)\n"
   ]
  },
  {
   "cell_type": "markdown",
   "metadata": {},
   "source": [
    "## COMMON DICTIONARY METHODS"
   ]
  },
  {
   "cell_type": "code",
   "execution_count": 48,
   "metadata": {},
   "outputs": [
    {
     "name": "stdout",
     "output_type": "stream",
     "text": [
      "sum of values :  110\n",
      "sum of keys :  10\n",
      "min in values :  10\n",
      "min in keys :  1\n",
      "max in values :  50\n",
      "max in keys :  4\n"
     ]
    }
   ],
   "source": [
    "a={1:10,2:20,3:30,4:50}\n",
    "t1=sum(a.values())# sum values\n",
    "t2=sum(a.keys())# sum keys\n",
    "b1=min(a.values())# min value\n",
    "b2=min(a.keys())# min key\n",
    "c1=max(a.values())# max value\n",
    "c2=max(a.keys())# max keys\n",
    "print(\"sum of values : \",t1)\n",
    "print(\"sum of keys : \",t2)\n",
    "print(\"min in values : \",b1)\n",
    "print(\"min in keys : \",b2)\n",
    "print(\"max in values : \",c1)\n",
    "print(\"max in keys : \",c2)\n"
   ]
  },
  {
   "cell_type": "markdown",
   "metadata": {},
   "source": [
    "sorting..."
   ]
  },
  {
   "cell_type": "code",
   "execution_count": 49,
   "metadata": {},
   "outputs": [
    {
     "name": "stdout",
     "output_type": "stream",
     "text": [
      "Eddy\n",
      "Jen\n",
      "Sam\n"
     ]
    }
   ],
   "source": [
    "long={'jen':'python','sam':'C','eddy':'java'}\n",
    "for i in sorted(long.keys()):# applying title() on keys\n",
    " print(i.title())"
   ]
  },
  {
   "cell_type": "code",
   "execution_count": 50,
   "metadata": {},
   "outputs": [
    {
     "name": "stdout",
     "output_type": "stream",
     "text": [
      "{'rajnish': 9, 'ravi': 10, 'sanjeev': 15, 'suraj': 32, 'yash': 2}\n"
     ]
    }
   ],
   "source": [
    "myDict = {'ravi': 10, 'rajnish': 9,\n",
    "        'sanjeev': 15, 'yash': 2, 'suraj': 32}\n",
    " \n",
    "myKeys = list(myDict.keys())\n",
    "myKeys.sort()\n",
    "sorted_dict = {i: myDict[i] for i in myKeys}\n",
    " \n",
    "print(sorted_dict)"
   ]
  },
  {
   "cell_type": "markdown",
   "metadata": {},
   "source": [
    "above was sorting by keys"
   ]
  },
  {
   "cell_type": "markdown",
   "metadata": {},
   "source": [
    "now we see sort by values"
   ]
  },
  {
   "cell_type": "markdown",
   "metadata": {},
   "source": [
    "do same just replace keys with values"
   ]
  },
  {
   "cell_type": "code",
   "execution_count": null,
   "metadata": {},
   "outputs": [],
   "source": []
  }
 ],
 "metadata": {
  "kernelspec": {
   "display_name": "Python 3",
   "language": "python",
   "name": "python3"
  },
  "language_info": {
   "codemirror_mode": {
    "name": "ipython",
    "version": 3
   },
   "file_extension": ".py",
   "mimetype": "text/x-python",
   "name": "python",
   "nbconvert_exporter": "python",
   "pygments_lexer": "ipython3",
   "version": "3.8.3"
  }
 },
 "nbformat": 4,
 "nbformat_minor": 4
}
